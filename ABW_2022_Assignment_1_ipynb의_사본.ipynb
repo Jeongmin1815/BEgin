{
  "metadata": {
    "colab": {
      "provenance": [],
      "include_colab_link": true
    },
    "kernelspec": {
      "display_name": "Python 3 (ipykernel)",
      "language": "python",
      "name": "python3"
    },
    "language_info": {
      "codemirror_mode": {
        "name": "ipython",
        "version": 3
      },
      "file_extension": ".py",
      "mimetype": "text/x-python",
      "name": "python",
      "nbconvert_exporter": "python",
      "pygments_lexer": "ipython3",
      "version": "3.9.7"
    }
  },
  "nbformat": 4,
  "nbformat_minor": 5,
  "cells": [
    {
      "cell_type": "markdown",
      "metadata": {
        "id": "view-in-github",
        "colab_type": "text"
      },
      "source": [
        "<a href=\"https://colab.research.google.com/github/Jeongmin1815/BEgin/blob/main/ABW_2022_Assignment_1_ipynb%EC%9D%98_%EC%82%AC%EB%B3%B8.ipynb\" target=\"_parent\"><img src=\"https://colab.research.google.com/assets/colab-badge.svg\" alt=\"Open In Colab\"/></a>"
      ]
    },
    {
      "cell_type": "code",
      "execution_count": null,
      "source": [
        "# Run this cell first!\n",
        "class _CgAnswers: ...\n",
        "answers = _CgAnswers()\n"
      ],
      "outputs": [],
      "metadata": {
        "trusted": true,
        "editable": false,
        "deletable": false,
        "id": "cH6X46ZQmnO1"
      },
      "id": "cH6X46ZQmnO1"
    },
    {
      "cell_type": "markdown",
      "id": "ab39f8e6",
      "metadata": {
        "id": "ab39f8e6",
        "trusted": true,
        "editable": false,
        "deletable": false
      },
      "source": [
        "# Analytics for a better world\n",
        "## Assignment 1: Introduction to Python / Submitting to CodeGrade\n",
        "\n",
        "This is an assignment made to introduce the use of Python notebooks and the procedure of handing in an assignment via Canvas / CodeGrade."
      ]
    },
    {
      "cell_type": "markdown",
      "id": "5ddf49a3",
      "metadata": {
        "id": "5ddf49a3",
        "trusted": true,
        "editable": false,
        "deletable": false
      },
      "source": [
        "___\n",
        "\n",
        "\n",
        "* This assignment is made for auto-grading with CodeGrade in Canvas\n",
        "* Write your code\n",
        "* **NEVER TOUCH THE CODE WHERE IT IS MARKED \"DO NOT CHANGE\"**\n",
        "* Submit through Canvas: [link](https://canvas.uva.nl/courses/32521/assignments/361894)\n",
        "* Check the feedback"
      ]
    },
    {
      "cell_type": "markdown",
      "id": "a2ec358c",
      "metadata": {
        "trusted": true,
        "editable": false,
        "deletable": false,
        "id": "a2ec358c"
      },
      "source": [
        "# Question 1 (2 points)"
      ]
    },
    {
      "cell_type": "markdown",
      "id": "32e8f068",
      "metadata": {
        "id": "32e8f068",
        "trusted": true,
        "editable": false,
        "deletable": false
      },
      "source": [
        "Assign a value of 10 to the variable `number`.\n",
        "\n",
        "Hint: We refer to the [Python_introduction](https://eur04.safelinks.protection.outlook.com/?url=https%3A%2F%2Fcolab.research.google.com%2Fdrive%2F16N44UkM-SMkP05cXpMExvoz80WuwifEG&data=05%7C01%7Cj.s.starreveld%40uva.nl%7Cbbfb18f98f524b4a998c08da8b2cce79%7Ca0f1cacd618c4403b94576fb3d6874e5%7C0%7C0%7C637975321801745619%7CUnknown%7CTWFpbGZsb3d8eyJWIjoiMC4wLjAwMDAiLCJQIjoiV2luMzIiLCJBTiI6Ik1haWwiLCJXVCI6Mn0%3D%7C3000%7C%7C%7C&sdata=ytyL00I%2FyerLVDq4jjRH3ACwAOzmvytc1A2FaKDkMro%3D&reserved=0) notebook that is posted on Canvas. The answer can be directly found there and copy-pasted to this question.\n",
        "\n",
        "**Points:**\n",
        "- Correctly assigning the value 10 to the variable `number`: 2 points"
      ]
    },
    {
      "cell_type": "code",
      "execution_count": null,
      "id": "54c68426",
      "metadata": {
        "id": "54c68426"
      },
      "outputs": [],
      "source": [
        "number = ... # Replace ... with your answer"
      ]
    },
    {
      "cell_type": "code",
      "execution_count": null,
      "id": "6akdyWXJ1kHF",
      "metadata": {
        "id": "6akdyWXJ1kHF",
        "colab": {
          "base_uri": "https://localhost:8080/"
        },
        "outputId": "b45fcfa7-0ba9-4fdf-ea72-a36c7a53c434"
      },
      "outputs": [
        {
          "output_type": "stream",
          "name": "stdout",
          "text": [
            "10\n"
          ]
        }
      ],
      "source": [
        "### BEGIN SOLUTION\n",
        "number = 10\n",
        "print(number)\n",
        "### END SOLUTION"
      ]
    },
    {
      "cell_type": "code",
      "execution_count": null,
      "id": "999f0db9",
      "metadata": {
        "id": "999f0db9",
        "colab": {
          "base_uri": "https://localhost:8080/",
          "height": 164
        },
        "outputId": "a250950d-2d23-4e89-b091-0e7ec30903a1"
      },
      "outputs": [
        {
          "output_type": "error",
          "ename": "NameError",
          "evalue": "name 'answers' is not defined",
          "traceback": [
            "\u001b[0;31m---------------------------------------------------------------------------\u001b[0m",
            "\u001b[0;31mNameError\u001b[0m                                 Traceback (most recent call last)",
            "\u001b[0;32m<ipython-input-3-57bd2d1d70e7>\u001b[0m in \u001b[0;36m<cell line: 2>\u001b[0;34m()\u001b[0m\n\u001b[1;32m      1\u001b[0m \u001b[0;31m# DO NOT CHANGE\u001b[0m\u001b[0;34m\u001b[0m\u001b[0;34m\u001b[0m\u001b[0m\n\u001b[0;32m----> 2\u001b[0;31m \u001b[0manswers\u001b[0m\u001b[0;34m.\u001b[0m\u001b[0mQ1\u001b[0m \u001b[0;34m=\u001b[0m \u001b[0mnumber\u001b[0m\u001b[0;34m\u001b[0m\u001b[0;34m\u001b[0m\u001b[0m\n\u001b[0m",
            "\u001b[0;31mNameError\u001b[0m: name 'answers' is not defined"
          ]
        }
      ],
      "source": [
        "# DO NOT CHANGE\n",
        "answers.Q1 = number"
      ]
    },
    {
      "cell_type": "markdown",
      "id": "d6990ea8",
      "metadata": {
        "trusted": true,
        "editable": false,
        "deletable": false,
        "id": "d6990ea8"
      },
      "source": [
        "# Question 2 (2 points)"
      ]
    },
    {
      "cell_type": "markdown",
      "id": "dd3ee7e5",
      "metadata": {
        "trusted": true,
        "editable": false,
        "deletable": false,
        "id": "dd3ee7e5"
      },
      "source": [
        "Now we would like you to add two variables `x` and `y` and store the result in a variable `sum_x_and_y`.\n",
        "\n",
        "**Points:**\n",
        "- Correctly adding `x` and `y` and assigning the resulting value to the variable `sum_x_and_y`: 2 points"
      ]
    },
    {
      "cell_type": "code",
      "execution_count": null,
      "id": "890262fe",
      "metadata": {
        "id": "890262fe"
      },
      "outputs": [],
      "source": [
        "# DO NOT CHANGE\n",
        "x = 2\n",
        "y = 3"
      ]
    },
    {
      "cell_type": "code",
      "execution_count": null,
      "id": "35211b49",
      "metadata": {
        "id": "35211b49"
      },
      "outputs": [],
      "source": [
        "sum_x_and_y = ... # Replace ... with your answer"
      ]
    },
    {
      "cell_type": "code",
      "execution_count": null,
      "id": "b31df2ce",
      "metadata": {
        "id": "b31df2ce",
        "colab": {
          "base_uri": "https://localhost:8080/"
        },
        "outputId": "47369e97-8024-4cc2-cd9f-99bc9efd45f6"
      },
      "outputs": [
        {
          "output_type": "stream",
          "name": "stdout",
          "text": [
            "5\n"
          ]
        }
      ],
      "source": [
        "### BEGIN SOLUTION\n",
        "x = 2\n",
        "y = 3\n",
        "sum_x_and_y = x + y\n",
        "print(x + y)\n",
        "### END SOLUTION"
      ]
    },
    {
      "cell_type": "code",
      "execution_count": null,
      "id": "21394c8c",
      "metadata": {
        "id": "21394c8c"
      },
      "outputs": [],
      "source": [
        "# DO NOT CHANGE\n",
        "answers.Q2 = sum_x_and_y"
      ]
    },
    {
      "cell_type": "markdown",
      "id": "e2bfbeed",
      "metadata": {
        "trusted": true,
        "editable": false,
        "deletable": false,
        "id": "e2bfbeed"
      },
      "source": [
        "# Question 3 (2 points)"
      ]
    },
    {
      "cell_type": "markdown",
      "id": "6d688c12",
      "metadata": {
        "trusted": true,
        "editable": false,
        "deletable": false,
        "id": "6d688c12"
      },
      "source": [
        "Now we would like you to get the average of two variables `x` and `y` and store the result in `avg_x_and_y`.\n",
        "\n",
        "**Points:**\n",
        "- Correctly computing the average of `x` and `y` and assigning the resulting value to the variable `avg_x_and_y`: 2 points"
      ]
    },
    {
      "cell_type": "code",
      "execution_count": null,
      "id": "f795f543",
      "metadata": {
        "id": "f795f543"
      },
      "outputs": [],
      "source": [
        "# DO NOT CHANGE\n",
        "x = 2\n",
        "y = 3"
      ]
    },
    {
      "cell_type": "code",
      "execution_count": null,
      "id": "31ec2960",
      "metadata": {
        "id": "31ec2960"
      },
      "outputs": [],
      "source": [
        "avg_x_and_y = ... # Replace ... with your answer"
      ]
    },
    {
      "cell_type": "code",
      "execution_count": null,
      "id": "85e01862",
      "metadata": {
        "id": "85e01862",
        "colab": {
          "base_uri": "https://localhost:8080/"
        },
        "outputId": "7df6adf9-958b-40a0-f1ca-4e7be866da1e"
      },
      "outputs": [
        {
          "output_type": "stream",
          "name": "stdout",
          "text": [
            "2.5\n"
          ]
        }
      ],
      "source": [
        "### BEGIN SOLUTION\n",
        "x = 2\n",
        "y = 3\n",
        "avg_x_and_y = (x + y)/2\n",
        "print(avg_x_and_y)\n",
        "### END SOLUTION"
      ]
    },
    {
      "cell_type": "code",
      "execution_count": null,
      "id": "1b1f0815",
      "metadata": {
        "id": "1b1f0815"
      },
      "outputs": [],
      "source": [
        "# DO NOT CHANGE\n",
        "answers.Q3 = avg_x_and_y"
      ]
    },
    {
      "cell_type": "markdown",
      "id": "d66a140c",
      "metadata": {
        "trusted": true,
        "editable": false,
        "deletable": false,
        "id": "d66a140c"
      },
      "source": [
        "# Question 4 (2 points)"
      ]
    },
    {
      "cell_type": "markdown",
      "id": "269f55d0",
      "metadata": {
        "id": "269f55d0",
        "trusted": true,
        "editable": false,
        "deletable": false
      },
      "source": [
        "There are many different data types you can use in Python. One of which is a `list`.\n",
        "\n",
        "A List is an ordered sequence of items. It is one of the most used datatype in Python and is very flexible. All the items in a list do not need to be of the same type. Declaring a list is done by enclosed within brackets `[ ]`, with items being separated by commas.\n",
        "\n",
        "We give you a list of numbers named `list_of_numbers` and want you to retrieve the first element in this list (the number `2`) and assign this element to the variable named `first_element_in_list`. Note that Python lists are \"zero indexed\", see [here](https://towardsdatascience.com/the-basics-of-indexing-and-slicing-python-lists-2d12c90a94cf) for more information.\n",
        "\n",
        "**Points:**\n",
        "- Retrieving the first element in `list_of_numbers` and correctly assigning it to `first_element_in_list`: 2 points"
      ]
    },
    {
      "cell_type": "code",
      "execution_count": null,
      "id": "cc6e277e",
      "metadata": {
        "id": "cc6e277e"
      },
      "outputs": [],
      "source": [
        "# DO NOT CHANGE\n",
        "list_of_numbers = [2, 4, 5, 6]"
      ]
    },
    {
      "cell_type": "code",
      "execution_count": null,
      "id": "ab5403a4",
      "metadata": {
        "id": "ab5403a4"
      },
      "outputs": [],
      "source": [
        "first_element_in_list = ... # Replace ... with your answer"
      ]
    },
    {
      "cell_type": "code",
      "execution_count": null,
      "id": "b559387b",
      "metadata": {
        "id": "b559387b",
        "colab": {
          "base_uri": "https://localhost:8080/"
        },
        "outputId": "9811f7ec-fd96-4f56-aa9e-e8526cb7c4ee"
      },
      "outputs": [
        {
          "output_type": "stream",
          "name": "stdout",
          "text": [
            "2\n"
          ]
        }
      ],
      "source": [
        "### BEGIN SOLUTION\n",
        "list_of_numbers = [2, 4, 5, 6]\n",
        "first_element_in_list = list_of_numbers[0]\n",
        "\n",
        "print(first_element_in_list)\n",
        "### END SOLUTION"
      ]
    },
    {
      "cell_type": "code",
      "execution_count": null,
      "id": "14882c54",
      "metadata": {
        "id": "14882c54"
      },
      "outputs": [],
      "source": [
        "# DO NOT CHANGE\n",
        "answers.Q4 = first_element_in_list"
      ]
    },
    {
      "cell_type": "markdown",
      "id": "bb2c7130",
      "metadata": {
        "trusted": true,
        "editable": false,
        "deletable": false,
        "id": "bb2c7130"
      },
      "source": [
        "# Question 5 (2 points)"
      ]
    },
    {
      "cell_type": "markdown",
      "id": "1f5085e1",
      "metadata": {
        "id": "1f5085e1",
        "trusted": true,
        "editable": false,
        "deletable": false
      },
      "source": [
        "The maximum of two numbers $x_1$ and $x_2$ is computed by the following formula\n",
        "\n",
        "$$\\text{max}(x_1,x_2) = \\begin{cases} x_1, \\text{if $x_1 \\geq x_2$} \\\\ x_2, \\text{if $x_1 < x_2$} \\end{cases}$$\n",
        "\n",
        "Write a function:\n",
        "* named `max_2`\n",
        "- accepting 2 arguments, named `x1` and `x2`\n",
        "- returning a number: the maximum of `x1` and `x2`\n",
        "\n",
        "**Points:**\n",
        "- Writing a correct function `max_2` and getting the right result when using `max_2`: 2 points"
      ]
    },
    {
      "cell_type": "code",
      "execution_count": null,
      "id": "f1d2d42c",
      "metadata": {
        "id": "f1d2d42c",
        "colab": {
          "base_uri": "https://localhost:8080/"
        },
        "outputId": "7365e97b-66ec-49b6-835f-23dc69bfcc11"
      },
      "outputs": [
        {
          "output_type": "stream",
          "name": "stdout",
          "text": [
            "10\n"
          ]
        }
      ],
      "source": [
        "def max_2(x1, x2):\n",
        "  # Replace ... with your answer\n",
        "  if x1 >= x2:\n",
        "    return x1\n",
        "\n",
        "  return x2\n",
        "# Here you can test if the function is working properly\n",
        "print(max_2(0, 10))"
      ]
    },
    {
      "cell_type": "code",
      "execution_count": null,
      "id": "006ce519",
      "metadata": {
        "id": "006ce519",
        "colab": {
          "base_uri": "https://localhost:8080/"
        },
        "outputId": "de57e421-ec1c-43f2-dadd-082a7d698540"
      },
      "outputs": [
        {
          "output_type": "stream",
          "name": "stdout",
          "text": [
            "10\n"
          ]
        }
      ],
      "source": [
        "### BEGIN SOLUTION\n",
        "def max_2(x1, x2):\n",
        "  if x1 >= x2:\n",
        "    return x1\n",
        "  else:\n",
        "    return x2\n",
        "\n",
        "print(max_2(0, 10))\n",
        "### END SOLUTION"
      ]
    },
    {
      "cell_type": "code",
      "execution_count": null,
      "id": "2ae4791d",
      "metadata": {
        "id": "2ae4791d"
      },
      "outputs": [],
      "source": [
        "# DO NOT CHANGE\n",
        "answers.Q5 = max_2"
      ]
    }
  ]
}